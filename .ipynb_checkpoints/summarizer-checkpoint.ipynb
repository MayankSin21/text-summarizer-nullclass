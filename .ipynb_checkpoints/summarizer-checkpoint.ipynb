{
 "cells": [
  {
   "cell_type": "code",
   "execution_count": 1,
   "id": "17bbd088-a133-4b99-b95f-08ae0dd1e1b4",
   "metadata": {},
   "outputs": [
    {
     "name": "stdout",
     "output_type": "stream",
     "text": [
      "Requirement already satisfied: nltk in /opt/anaconda3/lib/python3.12/site-packages (3.8.1)\n",
      "Requirement already satisfied: numpy in /opt/anaconda3/lib/python3.12/site-packages (1.26.4)\n",
      "Requirement already satisfied: scikit-learn in /opt/anaconda3/lib/python3.12/site-packages (1.4.2)\n",
      "Requirement already satisfied: networkx in /opt/anaconda3/lib/python3.12/site-packages (3.2.1)\n",
      "Requirement already satisfied: click in /opt/anaconda3/lib/python3.12/site-packages (from nltk) (8.1.7)\n",
      "Requirement already satisfied: joblib in /opt/anaconda3/lib/python3.12/site-packages (from nltk) (1.4.2)\n",
      "Requirement already satisfied: regex>=2021.8.3 in /opt/anaconda3/lib/python3.12/site-packages (from nltk) (2023.10.3)\n",
      "Requirement already satisfied: tqdm in /opt/anaconda3/lib/python3.12/site-packages (from nltk) (4.66.5)\n",
      "Requirement already satisfied: scipy>=1.6.0 in /opt/anaconda3/lib/python3.12/site-packages (from scikit-learn) (1.13.1)\n",
      "Requirement already satisfied: threadpoolctl>=2.0.0 in /opt/anaconda3/lib/python3.12/site-packages (from scikit-learn) (2.2.0)\n",
      "Note: you may need to restart the kernel to use updated packages.\n"
     ]
    }
   ],
   "source": [
    "pip install nltk numpy scikit-learn networkx"
   ]
  },
  {
   "cell_type": "code",
   "execution_count": 3,
   "id": "7410010b-a5e0-40f8-9119-1842fdf0d11e",
   "metadata": {},
   "outputs": [
    {
     "name": "stderr",
     "output_type": "stream",
     "text": [
      "[nltk_data] Downloading package punkt to\n",
      "[nltk_data]     /Users/mayanksingh/nltk_data...\n",
      "[nltk_data]   Package punkt is already up-to-date!\n",
      "[nltk_data] Downloading package stopwords to\n",
      "[nltk_data]     /Users/mayanksingh/nltk_data...\n",
      "[nltk_data]   Package stopwords is already up-to-date!\n"
     ]
    },
    {
     "data": {
      "text/plain": [
       "True"
      ]
     },
     "execution_count": 3,
     "metadata": {},
     "output_type": "execute_result"
    }
   ],
   "source": [
    "import nltk\n",
    "import numpy as np\n",
    "import networkx as nx\n",
    "from nltk.tokenize import sent_tokenize, word_tokenize\n",
    "from nltk.corpus import stopwords\n",
    "from sklearn.metrics.pairwise import cosine_similarity\n",
    "import string\n",
    "\n",
    "nltk.download('punkt')\n",
    "nltk.download('stopwords')"
   ]
  },
  {
   "cell_type": "code",
   "execution_count": 5,
   "id": "7b0999d7-5038-43c0-afb7-58a94ef43a9a",
   "metadata": {},
   "outputs": [],
   "source": [
    "def preprocess_sentences(text):\n",
    "    stop_words = set(stopwords.words('english'))\n",
    "    sentences = sent_tokenize(text)\n",
    "    clean_sentences = []\n",
    "\n",
    "    for sentence in sentences:\n",
    "        words = word_tokenize(sentence.lower())\n",
    "        words = [word for word in words if word not in stop_words and word not in string.punctuation]\n",
    "        clean_sentences.append(\" \".join(words))\n",
    "    \n",
    "    return sentences, clean_sentences"
   ]
  },
  {
   "cell_type": "code",
   "execution_count": 7,
   "id": "de3219f4-3005-4537-a6c2-4c64fc345d42",
   "metadata": {},
   "outputs": [],
   "source": [
    "def sentence_similarity_matrix(sentences, clean_sentences):\n",
    "    vectorizer = TfidfVectorizer()\n",
    "    vectors = vectorizer.fit_transform(clean_sentences)\n",
    "    similarity_matrix = cosine_similarity(vectors)\n",
    "    return similarity_matrix"
   ]
  },
  {
   "cell_type": "code",
   "execution_count": 11,
   "id": "1f3ae619-2203-4fcb-a6f3-3e153be76b6f",
   "metadata": {},
   "outputs": [],
   "source": [
    "from sklearn.feature_extraction.text import TfidfVectorizer\n",
    "\n",
    "def generate_summary(text, top_n=3):\n",
    "    original_sentences, cleaned = preprocess_sentences(text)\n",
    "    sim_matrix = sentence_similarity_matrix(original_sentences, cleaned)\n",
    "    nx_graph = nx.from_numpy_array(sim_matrix)\n",
    "    scores = nx.pagerank(nx_graph)\n",
    "    \n",
    "    ranked = sorted(((scores[i], s) for i, s in enumerate(original_sentences)), reverse=True)\n",
    "    summary = \" \".join([s for _, s in ranked[:top_n]])\n",
    "    return summary"
   ]
  },
  {
   "cell_type": "code",
   "execution_count": 13,
   "id": "76f176b3-5b54-45f1-9d6e-3ce539668c84",
   "metadata": {},
   "outputs": [
    {
     "name": "stdout",
     "output_type": "stream",
     "text": [
      "Generated Summary:\n",
      " Serving millions of passengers daily, it is the backbone of India's transportation system. It operates both long-distance and suburban rail systems on a multi-gauge network of broad, meter, and narrow gauges.\n"
     ]
    }
   ],
   "source": [
    "sample_text = \"\"\"\n",
    "The Indian Railways is one of the world's largest railway networks, managed by the Ministry of Railways. \n",
    "It operates both long-distance and suburban rail systems on a multi-gauge network of broad, meter, and narrow gauges. \n",
    "Serving millions of passengers daily, it is the backbone of India's transportation system. \n",
    "It also handles a significant portion of the country's freight traffic. \n",
    "Indian Railways is a state-owned enterprise and contributes significantly to the national economy. \n",
    "Despite challenges like congestion and outdated infrastructure, modernization efforts are underway.\n",
    "\"\"\"\n",
    "\n",
    "summary = generate_summary(sample_text, top_n=2)\n",
    "print(\"Generated Summary:\\n\", summary)"
   ]
  },
  {
   "cell_type": "code",
   "execution_count": null,
   "id": "257f0c97-1d77-44a7-884e-dc4cfdbe6be9",
   "metadata": {},
   "outputs": [],
   "source": []
  }
 ],
 "metadata": {
  "kernelspec": {
   "display_name": "Python 3 (ipykernel)",
   "language": "python",
   "name": "python3"
  },
  "language_info": {
   "codemirror_mode": {
    "name": "ipython",
    "version": 3
   },
   "file_extension": ".py",
   "mimetype": "text/x-python",
   "name": "python",
   "nbconvert_exporter": "python",
   "pygments_lexer": "ipython3",
   "version": "3.12.4"
  }
 },
 "nbformat": 4,
 "nbformat_minor": 5
}
